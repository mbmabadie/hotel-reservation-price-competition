{
 "cells": [
  {
   "cell_type": "code",
   "execution_count": 1,
   "id": "d5715117",
   "metadata": {
    "_cell_guid": "b1076dfc-b9ad-4769-8c92-a6c4dae69d19",
    "_uuid": "8f2839f25d086af736a60e9eeb907d3b93b6e0e5",
    "execution": {
     "iopub.execute_input": "2022-11-16T21:41:56.767375Z",
     "iopub.status.busy": "2022-11-16T21:41:56.766694Z",
     "iopub.status.idle": "2022-11-16T21:41:56.795039Z",
     "shell.execute_reply": "2022-11-16T21:41:56.793886Z"
    },
    "papermill": {
     "duration": 0.047789,
     "end_time": "2022-11-16T21:41:56.798534",
     "exception": false,
     "start_time": "2022-11-16T21:41:56.750745",
     "status": "completed"
    },
    "tags": []
   },
   "outputs": [
    {
     "name": "stdout",
     "output_type": "stream",
     "text": [
      "/kaggle/input/defi-ia/all_queries.csv\n",
      "/kaggle/input/defi-ia/test_set.csv\n",
      "/kaggle/input/defi-ia/features_hotels.csv\n",
      "/kaggle/input/defi-ia/prices.csv\n",
      "/kaggle/input/defi-ia/all_prices.csv\n",
      "/kaggle/input/defi-ia/queries.csv\n"
     ]
    }
   ],
   "source": [
    "# This Python 3 environment comes with many helpful analytics libraries installed\n",
    "# It is defined by the kaggle/python Docker image: https://github.com/kaggle/docker-python\n",
    "# For example, here's several helpful packages to load\n",
    "\n",
    "import numpy as np # linear algebra\n",
    "import pandas as pd # data processing, CSV file I/O (e.g. pd.read_csv)\n",
    "\n",
    "# Input data files are available in the read-only \"../input/\" directory\n",
    "# For example, running this (by clicking run or pressing Shift+Enter) will list all files under the input directory\n",
    "\n",
    "import os\n",
    "for dirname, _, filenames in os.walk('/kaggle/input'):\n",
    "    for filename in filenames:\n",
    "        print(os.path.join(dirname, filename))\n",
    "\n",
    "# You can write up to 20GB to the current directory (/kaggle/working/) that gets preserved as output when you create a version using \"Save & Run All\" \n",
    "# You can also write temporary files to /kaggle/temp/, but they won't be saved outside of the current session"
   ]
  },
  {
   "cell_type": "code",
   "execution_count": 2,
   "id": "7b5802ae",
   "metadata": {
    "execution": {
     "iopub.execute_input": "2022-11-16T21:41:56.812252Z",
     "iopub.status.busy": "2022-11-16T21:41:56.810675Z",
     "iopub.status.idle": "2022-11-16T21:41:57.567180Z",
     "shell.execute_reply": "2022-11-16T21:41:57.566133Z"
    },
    "papermill": {
     "duration": 0.765729,
     "end_time": "2022-11-16T21:41:57.570174",
     "exception": false,
     "start_time": "2022-11-16T21:41:56.804445",
     "status": "completed"
    },
    "tags": []
   },
   "outputs": [],
   "source": [
    "import numpy as np\n",
    "import pandas as pd\n",
    "import scipy.stats as stats"
   ]
  },
  {
   "cell_type": "code",
   "execution_count": 3,
   "id": "a1813fb8",
   "metadata": {
    "execution": {
     "iopub.execute_input": "2022-11-16T21:41:57.582359Z",
     "iopub.status.busy": "2022-11-16T21:41:57.581981Z",
     "iopub.status.idle": "2022-11-16T21:41:58.263671Z",
     "shell.execute_reply": "2022-11-16T21:41:58.262703Z"
    },
    "papermill": {
     "duration": 0.690726,
     "end_time": "2022-11-16T21:41:58.266333",
     "exception": false,
     "start_time": "2022-11-16T21:41:57.575607",
     "status": "completed"
    },
    "tags": []
   },
   "outputs": [],
   "source": [
    "from catboost import CatBoostRegressor"
   ]
  },
  {
   "cell_type": "code",
   "execution_count": 4,
   "id": "c63d58b1",
   "metadata": {
    "execution": {
     "iopub.execute_input": "2022-11-16T21:41:58.277943Z",
     "iopub.status.busy": "2022-11-16T21:41:58.277643Z",
     "iopub.status.idle": "2022-11-16T21:41:58.470938Z",
     "shell.execute_reply": "2022-11-16T21:41:58.469931Z"
    },
    "papermill": {
     "duration": 0.202339,
     "end_time": "2022-11-16T21:41:58.473757",
     "exception": false,
     "start_time": "2022-11-16T21:41:58.271418",
     "status": "completed"
    },
    "tags": []
   },
   "outputs": [],
   "source": [
    "from sklearn.preprocessing import MinMaxScaler\n",
    "from sklearn.cluster import KMeans\n",
    "from sklearn.decomposition import PCA\n",
    "from sklearn.feature_selection import mutual_info_regression"
   ]
  },
  {
   "cell_type": "code",
   "execution_count": 5,
   "id": "8911669c",
   "metadata": {
    "execution": {
     "iopub.execute_input": "2022-11-16T21:41:58.485525Z",
     "iopub.status.busy": "2022-11-16T21:41:58.485200Z",
     "iopub.status.idle": "2022-11-16T21:41:58.490738Z",
     "shell.execute_reply": "2022-11-16T21:41:58.489606Z"
    },
    "papermill": {
     "duration": 0.014318,
     "end_time": "2022-11-16T21:41:58.493304",
     "exception": false,
     "start_time": "2022-11-16T21:41:58.478986",
     "status": "completed"
    },
    "tags": []
   },
   "outputs": [],
   "source": [
    "def map_hotel_group(group):\n",
    "    groups = {'Boss Western': 'Boss_Western_Group', 'Accar Hotels': 'Accar_Hotels', 'Independant': 'Independant_Group',\n",
    "              'Yin Yang': 'Yin_Yang', 'Chillton Worldwide': 'Chillton_Worldwide',\n",
    "              'Morriott International': 'Morriott_International'}\n",
    "\n",
    "    return groups[group]"
   ]
  },
  {
   "cell_type": "code",
   "execution_count": 6,
   "id": "ad67a77f",
   "metadata": {
    "execution": {
     "iopub.execute_input": "2022-11-16T21:41:58.505064Z",
     "iopub.status.busy": "2022-11-16T21:41:58.504093Z",
     "iopub.status.idle": "2022-11-16T21:41:58.510908Z",
     "shell.execute_reply": "2022-11-16T21:41:58.510002Z"
    },
    "papermill": {
     "duration": 0.015021,
     "end_time": "2022-11-16T21:41:58.513344",
     "exception": false,
     "start_time": "2022-11-16T21:41:58.498323",
     "status": "completed"
    },
    "tags": []
   },
   "outputs": [],
   "source": [
    "def map_hotel_brand(brand):\n",
    "    brands = {'J.Halliday Inn': 'J_Halliday_Inn', 'Marcure': 'Marcure', 'Independant': 'Independant_Brand',\n",
    "              'Ibas': 'Ibas', 'Safitel': 'Safitel', '8 Premium': '8_Premium', 'Tripletree': 'Tripletree',\n",
    "              'CourtYord': 'CourtYord', 'Royal Lotus': 'Royal_Lotus', 'Boss Western': 'Boss_Western_Brand',\n",
    "              'Corlton': 'Corlton', 'Navatel': 'Navatel', 'Ardisson': 'Ardisson', 'Morriot': 'Morriot',\n",
    "              'Chill Garden Inn': 'Chill_Garden_Inn', 'Quadrupletree': 'Quadrupletree'}\n",
    "\n",
    "    return brands[brand]"
   ]
  },
  {
   "cell_type": "code",
   "execution_count": 7,
   "id": "fd8b8e3d",
   "metadata": {
    "execution": {
     "iopub.execute_input": "2022-11-16T21:41:58.525978Z",
     "iopub.status.busy": "2022-11-16T21:41:58.524939Z",
     "iopub.status.idle": "2022-11-16T21:41:58.531890Z",
     "shell.execute_reply": "2022-11-16T21:41:58.531036Z"
    },
    "papermill": {
     "duration": 0.015401,
     "end_time": "2022-11-16T21:41:58.534080",
     "exception": false,
     "start_time": "2022-11-16T21:41:58.518679",
     "status": "completed"
    },
    "tags": []
   },
   "outputs": [],
   "source": [
    "def get_user_history(df):\n",
    "    gr = df.groupby(['order_requests', 'avatar_id'])\n",
    "\n",
    "    new_df = pd.DataFrame()\n",
    "    for _, v in gr:\n",
    "        new_df = new_df.append(v.head(1)[['order_requests', 'avatar_id']])\n",
    "    new_df['user_history'] = new_df.groupby('avatar_id').cumcount()\n",
    "\n",
    "    df = pd.merge(df, new_df, how='inner', on=['order_requests', 'avatar_id'])\n",
    "    df = df.sort_values(by='index')\n",
    "\n",
    "    return df"
   ]
  },
  {
   "cell_type": "code",
   "execution_count": 8,
   "id": "e6db15a5",
   "metadata": {
    "execution": {
     "iopub.execute_input": "2022-11-16T21:41:58.545716Z",
     "iopub.status.busy": "2022-11-16T21:41:58.544820Z",
     "iopub.status.idle": "2022-11-16T21:41:58.550749Z",
     "shell.execute_reply": "2022-11-16T21:41:58.549879Z"
    },
    "papermill": {
     "duration": 0.013715,
     "end_time": "2022-11-16T21:41:58.552742",
     "exception": false,
     "start_time": "2022-11-16T21:41:58.539027",
     "status": "completed"
    },
    "tags": []
   },
   "outputs": [],
   "source": [
    "def encode(df, feature_eng=False):\n",
    "    # Nominal categories\n",
    "    features_nom = ['city', 'language', 'mobile', 'group', 'brand', 'parking', 'pool', 'children_policy']\n",
    "    if feature_eng:\n",
    "        features_nom.append('Cluster')\n",
    "    for name in features_nom:\n",
    "        df[name] = df[name].astype(\"category\")\n",
    "    return df"
   ]
  },
  {
   "cell_type": "code",
   "execution_count": 9,
   "id": "86f4b0f9",
   "metadata": {
    "execution": {
     "iopub.execute_input": "2022-11-16T21:41:58.563656Z",
     "iopub.status.busy": "2022-11-16T21:41:58.562870Z",
     "iopub.status.idle": "2022-11-16T21:41:58.570809Z",
     "shell.execute_reply": "2022-11-16T21:41:58.569956Z"
    },
    "papermill": {
     "duration": 0.015519,
     "end_time": "2022-11-16T21:41:58.572843",
     "exception": false,
     "start_time": "2022-11-16T21:41:58.557324",
     "status": "completed"
    },
    "tags": []
   },
   "outputs": [],
   "source": [
    "def make_mi_scores(X, y, feature_eng=False):\n",
    "    X = X.copy()\n",
    "    X = encode(X, feature_eng)\n",
    "\n",
    "    if 'index' in list(X.columns):\n",
    "        print('POP INDEX')\n",
    "        X.pop('index')\n",
    "    if 'price' in list(X.columns):\n",
    "        print('POP PRICE')\n",
    "        X.pop('price')\n",
    "\n",
    "    for colname in X.select_dtypes([\"object\", \"category\"]):\n",
    "        X[colname], _ = X[colname].factorize()\n",
    "    # All discrete features should now have integer dtypes\n",
    "    discrete_features = [pd.api.types.is_integer_dtype(t) for t in X.dtypes]\n",
    "\n",
    "    mi_scores = mutual_info_regression(X, y, discrete_features=discrete_features, random_state=0)\n",
    "    mi_scores = pd.Series(mi_scores, name=\"MI Scores\", index=X.columns)\n",
    "    mi_scores = mi_scores.sort_values(ascending=False)\n",
    "    return mi_scores"
   ]
  },
  {
   "cell_type": "code",
   "execution_count": 10,
   "id": "35772007",
   "metadata": {
    "execution": {
     "iopub.execute_input": "2022-11-16T21:41:58.584295Z",
     "iopub.status.busy": "2022-11-16T21:41:58.583320Z",
     "iopub.status.idle": "2022-11-16T21:41:58.588697Z",
     "shell.execute_reply": "2022-11-16T21:41:58.587796Z"
    },
    "papermill": {
     "duration": 0.013339,
     "end_time": "2022-11-16T21:41:58.590873",
     "exception": false,
     "start_time": "2022-11-16T21:41:58.577534",
     "status": "completed"
    },
    "tags": []
   },
   "outputs": [],
   "source": [
    "def mathematical_transforms(df):\n",
    "    X = pd.DataFrame()\n",
    "    X[\"DateMulStock\"] = df.date * df.stock\n",
    "    return X"
   ]
  },
  {
   "cell_type": "code",
   "execution_count": 11,
   "id": "a85d88e1",
   "metadata": {
    "execution": {
     "iopub.execute_input": "2022-11-16T21:41:58.602664Z",
     "iopub.status.busy": "2022-11-16T21:41:58.601783Z",
     "iopub.status.idle": "2022-11-16T21:41:58.608575Z",
     "shell.execute_reply": "2022-11-16T21:41:58.607633Z"
    },
    "papermill": {
     "duration": 0.014737,
     "end_time": "2022-11-16T21:41:58.610669",
     "exception": false,
     "start_time": "2022-11-16T21:41:58.595932",
     "status": "completed"
    },
    "tags": []
   },
   "outputs": [],
   "source": [
    "def cluster_labels(df, features, n_clusters=5):\n",
    "    X = df.copy()\n",
    "    X_scaled = X.loc[:, features]\n",
    "    X_scaled = pd.get_dummies(X_scaled)\n",
    "    X_scaled = MinMaxScaler().fit_transform(X_scaled)\n",
    "    kmeans = KMeans(n_clusters=n_clusters, n_init=50, random_state=0)\n",
    "    X_new = pd.DataFrame()\n",
    "    X_new[\"Cluster\"] = kmeans.fit_predict(X_scaled)\n",
    "    return X_new"
   ]
  },
  {
   "cell_type": "code",
   "execution_count": 12,
   "id": "3f927eb6",
   "metadata": {
    "execution": {
     "iopub.execute_input": "2022-11-16T21:41:58.622080Z",
     "iopub.status.busy": "2022-11-16T21:41:58.621147Z",
     "iopub.status.idle": "2022-11-16T21:41:58.627843Z",
     "shell.execute_reply": "2022-11-16T21:41:58.627026Z"
    },
    "papermill": {
     "duration": 0.014064,
     "end_time": "2022-11-16T21:41:58.629769",
     "exception": false,
     "start_time": "2022-11-16T21:41:58.615705",
     "status": "completed"
    },
    "tags": []
   },
   "outputs": [],
   "source": [
    "def apply_pca(X, standardize=True):\n",
    "    X = pd.get_dummies(X)\n",
    "    columns = X.columns\n",
    "    X = MinMaxScaler().fit_transform(X)\n",
    "    pca = PCA()\n",
    "    X_pca = pca.fit_transform(X)\n",
    "    # Convert to dataframe\n",
    "    component_names = [f\"PC{i + 1}\" for i in range(X_pca.shape[1])]\n",
    "    X_pca = pd.DataFrame(X_pca, columns=component_names)\n",
    "    # Create loadings\n",
    "    loadings = pd.DataFrame(\n",
    "        pca.components_.T,  # transpose the matrix of loadings\n",
    "        columns=component_names,  # so the columns are the principal components\n",
    "        index=columns,  # and the rows are the original features\n",
    "    )\n",
    "    return pca, X_pca, loadings"
   ]
  },
  {
   "cell_type": "code",
   "execution_count": 13,
   "id": "3d0ab945",
   "metadata": {
    "execution": {
     "iopub.execute_input": "2022-11-16T21:41:58.640945Z",
     "iopub.status.busy": "2022-11-16T21:41:58.640019Z",
     "iopub.status.idle": "2022-11-16T21:41:58.645163Z",
     "shell.execute_reply": "2022-11-16T21:41:58.644340Z"
    },
    "papermill": {
     "duration": 0.01284,
     "end_time": "2022-11-16T21:41:58.647264",
     "exception": false,
     "start_time": "2022-11-16T21:41:58.634424",
     "status": "completed"
    },
    "tags": []
   },
   "outputs": [],
   "source": [
    "def pca_components(df, features):\n",
    "    X = df.loc[:, features]\n",
    "    _, X_pca, _ = apply_pca(X)\n",
    "    return X_pca"
   ]
  },
  {
   "cell_type": "code",
   "execution_count": 14,
   "id": "a062a0ea",
   "metadata": {
    "execution": {
     "iopub.execute_input": "2022-11-16T21:41:58.657850Z",
     "iopub.status.busy": "2022-11-16T21:41:58.657095Z",
     "iopub.status.idle": "2022-11-16T21:41:58.664012Z",
     "shell.execute_reply": "2022-11-16T21:41:58.663210Z"
    },
    "papermill": {
     "duration": 0.014268,
     "end_time": "2022-11-16T21:41:58.665925",
     "exception": false,
     "start_time": "2022-11-16T21:41:58.651657",
     "status": "completed"
    },
    "tags": []
   },
   "outputs": [],
   "source": [
    "def outlier_detection(data, feature_eng=False):\n",
    "    cols = ['city', 'language', 'mobile', 'group', 'brand', 'parking', 'pool', 'children_policy']\n",
    "    if feature_eng:\n",
    "        cols.append('Cluster')\n",
    "    data = pd.get_dummies(data, columns=cols)\n",
    "    scores = data.apply(stats.zscore)\n",
    "\n",
    "    scores = scores.loc[\n",
    "        (scores['price'] < 1) & (scores['price'] > -1) &\n",
    "        (scores['date'] < 1) & (scores['date'] > -1) &\n",
    "        (scores['stock'] < 1) & (scores['stock'] > -1)\n",
    "    ]\n",
    "\n",
    "    print(f'number of samples: {len(scores)}')\n",
    "\n",
    "    return scores.index"
   ]
  },
  {
   "cell_type": "code",
   "execution_count": 15,
   "id": "b52da50c",
   "metadata": {
    "execution": {
     "iopub.execute_input": "2022-11-16T21:41:58.677507Z",
     "iopub.status.busy": "2022-11-16T21:41:58.676742Z",
     "iopub.status.idle": "2022-11-16T21:41:58.682360Z",
     "shell.execute_reply": "2022-11-16T21:41:58.681528Z"
    },
    "papermill": {
     "duration": 0.013901,
     "end_time": "2022-11-16T21:41:58.684282",
     "exception": false,
     "start_time": "2022-11-16T21:41:58.670381",
     "status": "completed"
    },
    "tags": []
   },
   "outputs": [],
   "source": [
    "def get_uninformative(mi_scores, only_PCA=False):\n",
    "    uninformative = []\n",
    "    for i, v in mi_scores.items():\n",
    "        if v < 0.01 and not only_PCA:\n",
    "            uninformative.append(i)\n",
    "        if 'PC' in str(i) and v < 1.0:\n",
    "            uninformative.append(i)\n",
    "    return uninformative"
   ]
  },
  {
   "cell_type": "code",
   "execution_count": 16,
   "id": "84e2f22f",
   "metadata": {
    "execution": {
     "iopub.execute_input": "2022-11-16T21:41:58.694942Z",
     "iopub.status.busy": "2022-11-16T21:41:58.694686Z",
     "iopub.status.idle": "2022-11-16T21:41:58.711131Z",
     "shell.execute_reply": "2022-11-16T21:41:58.710326Z"
    },
    "papermill": {
     "duration": 0.024222,
     "end_time": "2022-11-16T21:41:58.713086",
     "exception": false,
     "start_time": "2022-11-16T21:41:58.688864",
     "status": "completed"
    },
    "tags": []
   },
   "outputs": [],
   "source": [
    "def load_full_feature_set(feature_eng=False, perform_PCA=False, remove_outliers=False):\n",
    "    # load data\n",
    "    queries = pd.read_csv('/kaggle/input/defi-ia/all_queries.csv')\n",
    "    prices = pd.read_csv('/kaggle/input/defi-ia/all_prices.csv')\n",
    "    hotels = pd.read_csv('/kaggle/input/defi-ia/features_hotels.csv')\n",
    "    test = pd.read_csv('/kaggle/input/defi-ia/test_set.csv')\n",
    "\n",
    "    # drop query duplicates\n",
    "    queries = queries.drop_duplicates(subset=['language', 'city', 'date', 'mobile'])\n",
    "\n",
    "    # user history encoding pt.1\n",
    "    queries['user_history'] = queries.groupby('avatar_id').cumcount()\n",
    "\n",
    "    # merge queries, prices and hotel_features\n",
    "    X_train = pd.merge(queries, prices, how='inner', on='queryId')\n",
    "    X_train = pd.merge(X_train, hotels, how='inner', on='hotel_id')\n",
    "    X_train = X_train.drop(columns='city_y')\n",
    "    X_train = X_train.rename(columns={'city_x': 'city'})\n",
    "\n",
    "    # brand and group correction\n",
    "    X_train['brand'] = X_train.apply(lambda x: map_hotel_brand(x['brand']), axis=1)\n",
    "    X_train['group'] = X_train.apply(lambda x: map_hotel_group(x['group']), axis=1)\n",
    "\n",
    "    # user history encoding\n",
    "    X_train = X_train.drop(columns=['queryId', 'avatar_id', 'avatar_name'])\n",
    "\n",
    "    # feature ordering to match test set\n",
    "    X_train = X_train[['city', 'date', 'language', 'mobile', 'user_history',\n",
    "                       'hotel_id', 'stock', 'group', 'brand', 'parking', 'pool',\n",
    "                       'children_policy', 'price']]\n",
    "\n",
    "    # merge test_set with hotel_features\n",
    "    X_test = pd.merge(test, hotels, how='inner', on='hotel_id')\n",
    "    X_test = X_test.drop(columns='city_y')\n",
    "    X_test = X_test.rename(columns={'city_x': 'city'})\n",
    "\n",
    "    # brand and group correction\n",
    "    X_test['brand'] = X_test.apply(lambda x: map_hotel_brand(x['brand']), axis=1)\n",
    "    X_test['group'] = X_test.apply(lambda x: map_hotel_group(x['group']), axis=1)\n",
    "\n",
    "    # user history encoding\n",
    "    X_test = get_user_history(X_test)\n",
    "    X_test = X_test.drop(columns=['order_requests', 'avatar_id'])\n",
    "\n",
    "    X_test = X_test[['index', 'city', 'date', 'language', 'mobile', 'user_history',\n",
    "                     'hotel_id', 'stock', 'group', 'brand', 'parking', 'pool',\n",
    "                     'children_policy']]\n",
    "    \n",
    "    # X_train = X_train.drop(columns=['mobile', 'parking'])\n",
    "    # X_test = X_test.drop(columns=['mobile', 'parking'])\n",
    "    \n",
    "    # X_train['new_brands'] = X_train['brand']\n",
    "    # X_test['new_brands'] = X_test['brand']\n",
    "    \n",
    "    # X_train['new_brands'] = X_train['new_brands'].replace(['8_Premium', 'Ibas'], 'brand1')\n",
    "    # X_train['new_brands'] = X_train['new_brands'].replace(['Navatel', 'Ardisson', 'J_Halliday_Inn', 'Boss_Western_Brand', 'CourtYord', 'Tripletree'], 'brand2')\n",
    "    # X_train['new_brands'] = X_train['new_brands'].replace(['Safitel', 'Corlton', 'Chill_Garden_Inn'], 'brand3')\n",
    "    # X_train['new_brands'] = X_train['new_brands'].replace(['Royal_Lotus', 'Quadrupletree', 'Morriot', 'Marcure'], 'brand4')\n",
    "    \n",
    "    # X_test['new_brands'] = X_test['new_brands'].replace(['8_Premium', 'Ibas'], 'brand1')\n",
    "    # X_test['new_brands'] = X_test['new_brands'].replace(['Navatel', 'Ardisson', 'J_Halliday_Inn', 'Boss_Western_Brand', 'CourtYord', 'Tripletree'], 'brand2')\n",
    "    # X_test['new_brands'] = X_test['new_brands'].replace(['Safitel', 'Corlton', 'Chill_Garden_Inn'], 'brand3')\n",
    "    # X_test['new_brands'] = X_test['new_brands'].replace(['Royal_Lotus', 'Quadrupletree', 'Morriot', 'Marcure'], 'brand4')\n",
    "    \n",
    "    # X_train = X_train.drop(columns=['group', 'brand'])\n",
    "    # X_test = X_test.drop(columns=['group', 'brand'])\n",
    "    \n",
    "    if feature_eng:\n",
    "        train = X_train.copy()\n",
    "        test = X_test.copy()\n",
    "\n",
    "        train.pop('hotel_id')\n",
    "        test.pop('hotel_id')\n",
    "\n",
    "        # create new features with pandas\n",
    "        train = train.join(mathematical_transforms(train))\n",
    "        test = test.join(mathematical_transforms(test))\n",
    "\n",
    "        # create new features with KMeans\n",
    "        cluster_features = [\n",
    "            \"language\",\n",
    "            \"city\",\n",
    "            \"stock\",\n",
    "            \"group\",\n",
    "            \"brand\",\n",
    "        ]\n",
    "\n",
    "        train = train.join(cluster_labels(train, cluster_features, 5))\n",
    "        test = test.join(cluster_labels(test, cluster_features, 5))\n",
    "\n",
    "        if perform_PCA:\n",
    "            # create new features with PCA\n",
    "            pca_features = [\n",
    "                \"date\",\n",
    "                \"stock\",\n",
    "                \"group\",\n",
    "                \"brand\",\n",
    "            ]\n",
    "\n",
    "            train = train.join(pca_components(train, pca_features))\n",
    "            test = test.join(pca_components(test, pca_features))\n",
    "\n",
    "        # remove uninformative features\n",
    "        mi_scores = make_mi_scores(train, train['price'], feature_eng)\n",
    "        uninformative = get_uninformative(mi_scores, only_PCA=True)\n",
    "        train = train.drop(columns=uninformative)\n",
    "        test = test.drop(columns=uninformative)\n",
    "\n",
    "        # remove outliers\n",
    "        if remove_outliers:\n",
    "            without_outliers_indexes = outlier_detection(train, feature_eng)\n",
    "            train = train.iloc[without_outliers_indexes, :]\n",
    "\n",
    "        return train, test\n",
    "\n",
    "    else:\n",
    "        return X_train, X_test"
   ]
  },
  {
   "cell_type": "code",
   "execution_count": 17,
   "id": "e7f11ff4",
   "metadata": {
    "execution": {
     "iopub.execute_input": "2022-11-16T21:41:58.723943Z",
     "iopub.status.busy": "2022-11-16T21:41:58.723211Z",
     "iopub.status.idle": "2022-11-16T21:41:58.729906Z",
     "shell.execute_reply": "2022-11-16T21:41:58.729037Z"
    },
    "papermill": {
     "duration": 0.014387,
     "end_time": "2022-11-16T21:41:58.731954",
     "exception": false,
     "start_time": "2022-11-16T21:41:58.717567",
     "status": "completed"
    },
    "tags": []
   },
   "outputs": [],
   "source": [
    "def load_data(feature_eng=False, perform_PCA=False, remove_outliers=False):\n",
    "    X_train, X_test = load_full_feature_set(feature_eng, perform_PCA, remove_outliers)\n",
    "\n",
    "    y_train = X_train.pop('price')\n",
    "    \n",
    "    if not feature_eng:\n",
    "        X_train.pop('hotel_id')\n",
    "        X_test.pop('hotel_id')\n",
    "        \n",
    "    cols = ['city', 'language', 'mobile', 'group', 'brand', 'parking', 'pool', 'children_policy']\n",
    "    # cols = ['city', 'language', 'pool', 'children_policy', 'new_brands']\n",
    "    \n",
    "    if feature_eng:\n",
    "        cols.append('Cluster')\n",
    "    X_train = pd.get_dummies(X_train, columns=cols)\n",
    "    X_test = pd.get_dummies(X_test, columns=cols)\n",
    "\n",
    "    return X_train, y_train, X_test"
   ]
  },
  {
   "cell_type": "code",
   "execution_count": 18,
   "id": "35269176",
   "metadata": {
    "execution": {
     "iopub.execute_input": "2022-11-16T21:41:58.742590Z",
     "iopub.status.busy": "2022-11-16T21:41:58.741732Z",
     "iopub.status.idle": "2022-11-16T21:41:58.749689Z",
     "shell.execute_reply": "2022-11-16T21:41:58.748847Z"
    },
    "papermill": {
     "duration": 0.015276,
     "end_time": "2022-11-16T21:41:58.751691",
     "exception": false,
     "start_time": "2022-11-16T21:41:58.736415",
     "status": "completed"
    },
    "tags": []
   },
   "outputs": [],
   "source": [
    "def grid_search(X_train, y_train, X_test):\n",
    "\n",
    "    model = CatBoostRegressor(task_type=\"GPU\", devices='0:1', verbose=1000)\n",
    "    \n",
    "    # Best params from grid search: {'depth': 10, 'l2_leaf_reg': 1, 'iterations': 1250, 'learning_rate': 0.1}\n",
    "    # Best params from grid search: {'depth': 15, 'l2_leaf_reg': 1, 'iterations': 2000, 'learning_rate': 0.2}\n",
    "\n",
    "    grid = {\n",
    "        'iterations': [2000, 3000, 4000],\n",
    "        'learning_rate': [0.2, 0.3, 0.4],\n",
    "        'depth': [15, 20],\n",
    "        'l2_leaf_reg': [1]\n",
    "    }\n",
    "    \n",
    "    params = {\n",
    "        'iterations': [1000, 1500, 2000],\n",
    "        'learning_rate': [0.1, 0.2, 0.3],\n",
    "        'l2_leaf_reg': [1, 2, 3, 4, 5, 7, 9],\n",
    "        # 'bagging_temperature': [1, 5, 10],\n",
    "        'sampling_frequency': ['PerTree', 'PerTreeLevel'],\n",
    "        'depth': [4, 5, 6, 8, 10],\n",
    "        # 'grow_policy': ['SymmetricTree', 'Depthwise', 'Lossguide'],\n",
    "        # 'min_data_in_leaf': [1, 5, 10],\n",
    "        # 'max_leaves': [25, 30, 35],\n",
    "        'score_function': ['Cosine', 'L2']\n",
    "    }\n",
    "\n",
    "    grid_search_result = model.grid_search(grid, X=X_train, y=y_train, verbose=1000)\n",
    "    # grid_search_result = model.randomized_search(params, X=X_train, y=y_train, n_iter=10, verbose=100)\n",
    "    \n",
    "    print()\n",
    "    print('Best params from grid search:', grid_search_result[\"params\"])\n",
    "\n",
    "    predictions = model.predict(X_test)\n",
    "\n",
    "    return predictions"
   ]
  },
  {
   "cell_type": "code",
   "execution_count": 19,
   "id": "295745a1",
   "metadata": {
    "execution": {
     "iopub.execute_input": "2022-11-16T21:41:58.762404Z",
     "iopub.status.busy": "2022-11-16T21:41:58.761659Z",
     "iopub.status.idle": "2022-11-16T21:41:58.766438Z",
     "shell.execute_reply": "2022-11-16T21:41:58.765594Z"
    },
    "papermill": {
     "duration": 0.012295,
     "end_time": "2022-11-16T21:41:58.768692",
     "exception": false,
     "start_time": "2022-11-16T21:41:58.756397",
     "status": "completed"
    },
    "tags": []
   },
   "outputs": [],
   "source": [
    "import sys"
   ]
  },
  {
   "cell_type": "code",
   "execution_count": 20,
   "id": "0ad677a0",
   "metadata": {
    "execution": {
     "iopub.execute_input": "2022-11-16T21:41:58.779961Z",
     "iopub.status.busy": "2022-11-16T21:41:58.779649Z",
     "iopub.status.idle": "2022-11-16T23:46:55.470873Z",
     "shell.execute_reply": "2022-11-16T23:46:55.469791Z"
    },
    "papermill": {
     "duration": 7496.699867,
     "end_time": "2022-11-16T23:46:55.473514",
     "exception": false,
     "start_time": "2022-11-16T21:41:58.773647",
     "status": "completed"
    },
    "tags": []
   },
   "outputs": [
    {
     "name": "stdout",
     "output_type": "stream",
     "text": [
      "X_train columns == X_test columns: True\n",
      "Number of training samples: 269747\n",
      "Number of features: 70\n",
      "0:\tlearn: 148.1349650\ttest: 148.0507630\tbest: 148.0507630 (0)\ttotal: 1.1s\tremaining: 36m 46s\n",
      "1000:\tlearn: 13.5268656\ttest: 13.9384899\tbest: 13.9384886 (997)\ttotal: 6m 29s\tremaining: 6m 29s\n",
      "1999:\tlearn: 13.3876199\ttest: 13.8052837\tbest: 13.8052796 (1998)\ttotal: 7m 55s\tremaining: 0us\n",
      "bestTest = 13.80527964\n",
      "bestIteration = 1998\n",
      "0:\tloss: 13.8052796\tbest: 13.8052796 (0)\ttotal: 7m 56s\tremaining: 2h 14m 52s\n",
      "0:\tlearn: 131.0039772\ttest: 130.9137953\tbest: 130.9137953 (0)\ttotal: 872ms\tremaining: 29m 2s\n",
      "1000:\tlearn: 13.2649384\ttest: 13.7544533\tbest: 13.7544533 (1000)\ttotal: 5m 43s\tremaining: 5m 42s\n",
      "1999:\tlearn: 12.9657788\ttest: 13.4845987\tbest: 13.4845953 (1978)\ttotal: 7m 47s\tremaining: 0us\n",
      "bestTest = 13.48459527\n",
      "bestIteration = 1978\n",
      "0:\tlearn: 114.0894547\ttest: 113.9941679\tbest: 113.9941679 (0)\ttotal: 878ms\tremaining: 29m 15s\n",
      "1000:\tlearn: 13.2415280\ttest: 13.7158899\tbest: 13.7158176 (956)\ttotal: 4m 17s\tremaining: 4m 16s\n",
      "1999:\tlearn: 13.0320681\ttest: 13.5208534\tbest: 13.5208534 (1998)\ttotal: 5m 53s\tremaining: 0us\n",
      "bestTest = 13.52085335\n",
      "bestIteration = 1998\n",
      "0:\tlearn: 148.1349650\ttest: 148.0507630\tbest: 148.0507630 (0)\ttotal: 1.07s\tremaining: 53m 36s\n",
      "1000:\tlearn: 13.5931466\ttest: 14.0132276\tbest: 14.0132256 (994)\ttotal: 6m 7s\tremaining: 12m 13s\n",
      "2000:\tlearn: 13.1777716\ttest: 13.6324818\tbest: 13.6324818 (1999)\ttotal: 8m 49s\tremaining: 4m 24s\n",
      "2999:\tlearn: 13.0894169\ttest: 13.5541498\tbest: 13.5541354 (2987)\ttotal: 10m 28s\tremaining: 0us\n",
      "bestTest = 13.55413544\n",
      "bestIteration = 2987\n",
      "0:\tlearn: 131.0039772\ttest: 130.9137953\tbest: 130.9137953 (0)\ttotal: 1.01s\tremaining: 50m 25s\n",
      "1000:\tlearn: 13.2863385\ttest: 13.7487625\tbest: 13.7487625 (1000)\ttotal: 5m 29s\tremaining: 10m 58s\n",
      "2000:\tlearn: 13.1063475\ttest: 13.5832558\tbest: 13.5832053 (1894)\ttotal: 7m 11s\tremaining: 3m 35s\n",
      "2999:\tlearn: 12.9189899\ttest: 13.4120994\tbest: 13.4120981 (2985)\ttotal: 9m 13s\tremaining: 0us\n",
      "bestTest = 13.41209806\n",
      "bestIteration = 2985\n",
      "0:\tlearn: 114.0894547\ttest: 113.9941679\tbest: 113.9941679 (0)\ttotal: 862ms\tremaining: 43m 4s\n",
      "1000:\tlearn: 13.3066693\ttest: 13.7956938\tbest: 13.7956938 (1000)\ttotal: 4m 3s\tremaining: 8m 5s\n",
      "2000:\tlearn: 13.1366479\ttest: 13.6442650\tbest: 13.6442250 (1986)\ttotal: 5m 20s\tremaining: 2m 39s\n",
      "2999:\tlearn: 12.8929050\ttest: 13.4264750\tbest: 13.4264750 (2999)\ttotal: 7m 9s\tremaining: 0us\n",
      "bestTest = 13.42647503\n",
      "bestIteration = 2999\n",
      "0:\tlearn: 148.1349650\ttest: 148.0507630\tbest: 148.0507630 (0)\ttotal: 870ms\tremaining: 57m 57s\n",
      "1000:\tlearn: 13.4370557\ttest: 13.8556727\tbest: 13.8556680 (999)\ttotal: 6m 57s\tremaining: 20m 50s\n",
      "2000:\tlearn: 13.1855078\ttest: 13.6107812\tbest: 13.6107812 (2000)\ttotal: 8m 56s\tremaining: 8m 55s\n",
      "3000:\tlearn: 13.0108709\ttest: 13.4575989\tbest: 13.4575859 (2922)\ttotal: 10m 52s\tremaining: 3m 37s\n",
      "3999:\tlearn: 12.8913803\ttest: 13.3591419\tbest: 13.3591385 (3998)\ttotal: 12m 28s\tremaining: 0us\n",
      "bestTest = 13.35913845\n",
      "bestIteration = 3998\n",
      "0:\tlearn: 131.0039772\ttest: 130.9137953\tbest: 130.9137953 (0)\ttotal: 878ms\tremaining: 58m 32s\n",
      "1000:\tlearn: 13.3522101\ttest: 13.8303705\tbest: 13.8303577 (948)\ttotal: 5m 21s\tremaining: 16m 2s\n",
      "2000:\tlearn: 13.0831789\ttest: 13.5836570\tbest: 13.5836570 (2000)\ttotal: 7m 33s\tremaining: 7m 33s\n",
      "3000:\tlearn: 12.8425084\ttest: 13.3578473\tbest: 13.3578473 (3000)\ttotal: 9m 41s\tremaining: 3m 13s\n",
      "3999:\tlearn: 12.7205200\ttest: 13.2425082\tbest: 13.2425082 (3998)\ttotal: 11m 5s\tremaining: 0us\n",
      "bestTest = 13.24250816\n",
      "bestIteration = 3998\n",
      "0:\tlearn: 114.0894547\ttest: 113.9941679\tbest: 113.9941679 (0)\ttotal: 888ms\tremaining: 59m 9s\n",
      "1000:\tlearn: 13.1248875\ttest: 13.6653944\tbest: 13.6653862 (992)\ttotal: 4m 47s\tremaining: 14m 21s\n",
      "2000:\tlearn: 12.8897791\ttest: 13.4595271\tbest: 13.4595271 (1999)\ttotal: 6m 31s\tremaining: 6m 30s\n",
      "3000:\tlearn: 12.7518215\ttest: 13.3367158\tbest: 13.3366915 (2955)\ttotal: 7m 40s\tremaining: 2m 33s\n",
      "3999:\tlearn: 12.6512038\ttest: 13.2450407\tbest: 13.2450407 (3990)\ttotal: 8m 55s\tremaining: 0us\n",
      "bestTest = 13.24504069\n",
      "bestIteration = 3990\n",
      "Estimating final quality...\n",
      "Training on fold [0/3]\n",
      "0:\tlearn: 130.9538284\ttest: 131.1281915\tbest: 131.1281915 (0)\ttotal: 877ms\tremaining: 58m 25s\n",
      "1000:\tlearn: 13.7646455\ttest: 14.0829423\tbest: 14.0829423 (998)\ttotal: 4m 21s\tremaining: 13m 4s\n",
      "2000:\tlearn: 13.3210563\ttest: 13.6737736\tbest: 13.6737736 (1999)\ttotal: 6m 25s\tremaining: 6m 25s\n",
      "3000:\tlearn: 12.9778580\ttest: 13.3790857\tbest: 13.3790848 (2997)\ttotal: 8m 13s\tremaining: 2m 44s\n",
      "3999:\tlearn: 12.8421562\ttest: 13.2722818\tbest: 13.2721591 (3916)\ttotal: 9m 48s\tremaining: 0us\n",
      "bestTest = 13.27215909\n",
      "bestIteration = 3916\n",
      "Training on fold [1/3]\n",
      "0:\tlearn: 131.1741225\ttest: 130.8058336\tbest: 130.8058336 (0)\ttotal: 972ms\tremaining: 1h 4m 45s\n",
      "1000:\tlearn: 13.7584250\ttest: 14.1075921\tbest: 14.1075921 (1000)\ttotal: 4m 13s\tremaining: 12m 40s\n",
      "2000:\tlearn: 13.3079162\ttest: 13.7169859\tbest: 13.7169859 (2000)\ttotal: 6m 29s\tremaining: 6m 28s\n",
      "3000:\tlearn: 13.1519645\ttest: 13.5753733\tbest: 13.5753352 (2970)\ttotal: 7m 48s\tremaining: 2m 35s\n",
      "3999:\tlearn: 13.0598440\ttest: 13.5002356\tbest: 13.5002331 (3996)\ttotal: 8m 51s\tremaining: 0us\n",
      "bestTest = 13.50023314\n",
      "bestIteration = 3996\n",
      "Training on fold [2/3]\n",
      "0:\tlearn: 130.9587365\ttest: 131.2449659\tbest: 131.2449659 (0)\ttotal: 453ms\tremaining: 30m 10s\n",
      "1000:\tlearn: 13.4008789\ttest: 13.9581201\tbest: 13.9581105 (988)\ttotal: 4m 52s\tremaining: 14m 35s\n",
      "2000:\tlearn: 13.1201357\ttest: 13.7225849\tbest: 13.7225768 (1980)\ttotal: 6m 36s\tremaining: 6m 36s\n",
      "3000:\tlearn: 13.0145606\ttest: 13.6309861\tbest: 13.6309844 (2997)\ttotal: 7m 56s\tremaining: 2m 38s\n",
      "3999:\tlearn: 12.8740442\ttest: 13.5197163\tbest: 13.5197039 (3978)\ttotal: 9m 29s\tremaining: 0us\n",
      "bestTest = 13.51970393\n",
      "bestIteration = 3978\n",
      "\n",
      "Best params from grid search: {'depth': 15, 'l2_leaf_reg': 1, 'iterations': 4000, 'learning_rate': 0.3}\n"
     ]
    }
   ],
   "source": [
    "feature_eng = False\n",
    "perform_PCA = False\n",
    "remove_outliers = False\n",
    "\n",
    "X_train, y_train, X_test = load_data(feature_eng, perform_PCA, remove_outliers)\n",
    "test_idxs = X_test.pop('index')\n",
    "\n",
    "print(f'X_train columns == X_test columns: {np.all(X_train.columns == X_test.columns)}')\n",
    "print(f'Number of training samples: {X_train.shape[0]}')\n",
    "print(f'Number of features: {X_train.shape[1]}')\n",
    "\n",
    "predictions = grid_search(X_train, y_train, X_test)\n",
    "\n",
    "submission = pd.DataFrame(data={'index': test_idxs, 'price': predictions})\n",
    "submission = submission.sort_values(by=['index'])\n",
    "\n",
    "filename = './catboost_grid_search.csv'\n",
    "submission.to_csv(filename, index=False)"
   ]
  }
 ],
 "metadata": {
  "kernelspec": {
   "display_name": "Python 3",
   "language": "python",
   "name": "python3"
  },
  "language_info": {
   "codemirror_mode": {
    "name": "ipython",
    "version": 3
   },
   "file_extension": ".py",
   "mimetype": "text/x-python",
   "name": "python",
   "nbconvert_exporter": "python",
   "pygments_lexer": "ipython3",
   "version": "3.7.12"
  },
  "papermill": {
   "default_parameters": {},
   "duration": 7508.664915,
   "end_time": "2022-11-16T23:46:56.615418",
   "environment_variables": {},
   "exception": null,
   "input_path": "__notebook__.ipynb",
   "output_path": "__notebook__.ipynb",
   "parameters": {},
   "start_time": "2022-11-16T21:41:47.950503",
   "version": "2.3.4"
  }
 },
 "nbformat": 4,
 "nbformat_minor": 5
}
